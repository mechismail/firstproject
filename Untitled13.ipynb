{
  "nbformat": 4,
  "nbformat_minor": 0,
  "metadata": {
    "colab": {
      "provenance": [],
      "authorship_tag": "ABX9TyNy3dFAK24WBfs27vECcnGy",
      "include_colab_link": true
    },
    "kernelspec": {
      "name": "python3",
      "display_name": "Python 3"
    },
    "language_info": {
      "name": "python"
    }
  },
  "cells": [
    {
      "cell_type": "markdown",
      "metadata": {
        "id": "view-in-github",
        "colab_type": "text"
      },
      "source": [
        "<a href=\"https://colab.research.google.com/github/mechismail/firstproject/blob/main/Untitled13.ipynb\" target=\"_parent\"><img src=\"https://colab.research.google.com/assets/colab-badge.svg\" alt=\"Open In Colab\"/></a>"
      ]
    },
    {
      "cell_type": "code",
      "execution_count": null,
      "metadata": {
        "colab": {
          "base_uri": "https://localhost:8080/"
        },
        "id": "4sUuVzF_1dLc",
        "outputId": "5328bf7f-3b41-4d4d-af5a-02d4bb3b54ca"
      },
      "outputs": [
        {
          "output_type": "stream",
          "name": "stdout",
          "text": [
            "Enter Bill value :110\n",
            "Bill Total is > 100\n",
            "Please pay Discounted Bill  100\n"
          ]
        }
      ],
      "source": [
        "bill_total = int(input(\"Enter Bill value :\" ))\n",
        "discount1=10\n",
        "if bill_total >100 :\n",
        "  print(\"Bill Total is > 100\")\n",
        "  bill_total = bill_total - discount1\n",
        "  print(\"Please pay Discounted Bill \" , bill_total)\n",
        "else :\n",
        "  print(\"Your Bill is < 100 , No Discount Allowed , Pay \" , bill_total)"
      ]
    },
    {
      "cell_type": "code",
      "source": [],
      "metadata": {
        "id": "Rl_aSp0j4H5m"
      },
      "execution_count": null,
      "outputs": []
    },
    {
      "cell_type": "code",
      "source": [],
      "metadata": {
        "id": "E_-Wt69t4JFX"
      },
      "execution_count": null,
      "outputs": []
    },
    {
      "cell_type": "code",
      "source": [
        "bill_total = 108\n",
        "discount1 = 10\n",
        "\n",
        "if bill_total > 100:\n",
        "    print(\"Bill is greater than 100!\")\n",
        "    bill_total = bill_total - discount1\n",
        "\n",
        "print(\"Total bill: \" + str(bill_total))\n",
        "print(\"Total bill: \" , bill_total)"
      ],
      "metadata": {
        "id": "ho8IM-d61h9D",
        "colab": {
          "base_uri": "https://localhost:8080/"
        },
        "outputId": "281fbc85-10df-4bf4-e9e7-f3e42c50bc35"
      },
      "execution_count": null,
      "outputs": [
        {
          "output_type": "stream",
          "name": "stdout",
          "text": [
            "Bill is greater than 100!\n",
            "Total bill: 98\n",
            "Total bill:  98\n"
          ]
        }
      ]
    },
    {
      "cell_type": "code",
      "source": [
        "http_status = 200\n",
        "\n",
        "if http_status == 200 or http_status == 201:\n",
        "    print('Success')\n",
        "elif http_status == 400:\n",
        "    print('Bad request')\n",
        "elif http_status == 404:\n",
        "    print('Not Found')\n",
        "elif http_status == 500 or http_status == 501:\n",
        "    print('Server Error')\n",
        "else:\n",
        "    print('Unknown')\n",
        "\n",
        "\n",
        "match http_status:\n",
        "    case 200 | 201:\n",
        "        print('Success')\n",
        "    #case _:\n",
        "       # print('Unknown')"
      ],
      "metadata": {
        "colab": {
          "base_uri": "https://localhost:8080/"
        },
        "id": "bp4seDBNtMC8",
        "outputId": "ff517a9a-778f-4311-c27a-a061efbd213f"
      },
      "execution_count": null,
      "outputs": [
        {
          "output_type": "stream",
          "name": "stdout",
          "text": [
            "Success\n",
            "Success\n"
          ]
        }
      ]
    },
    {
      "cell_type": "code",
      "source": [
        "favorites = ['Creme Brulee', 'Apple Pie', 'Churros', 'Tiramisú', 'Chocolate Cake']\n",
        "\n",
        "for item in favorites:\n",
        "    print('I like this desert', item)"
      ],
      "metadata": {
        "id": "hBRt70IovcvT",
        "outputId": "be3ae48b-2c4f-4202-c41e-93db4143250d",
        "colab": {
          "base_uri": "https://localhost:8080/"
        }
      },
      "execution_count": null,
      "outputs": [
        {
          "output_type": "stream",
          "name": "stdout",
          "text": [
            "I like this desert Creme Brulee\n",
            "I like this desert Apple Pie\n",
            "I like this desert Churros\n",
            "I like this desert Tiramisú\n",
            "I like this desert Chocolate Cake\n"
          ]
        }
      ]
    },
    {
      "cell_type": "code",
      "source": [
        "favorites = ['Creme Brulee', 'Apple Pie', 'Churros', 'Tiramisú', 'Chocolate Cake']\n",
        "count =0\n",
        "while count< len(favorites):\n",
        "  print(\"I like this Desert\",favorites[count])\n",
        "  count = count + 1"
      ],
      "metadata": {
        "colab": {
          "base_uri": "https://localhost:8080/"
        },
        "id": "CrD-wUGs4Uru",
        "outputId": "5baa4ce2-8ece-4c57-df3f-143865eaba44"
      },
      "execution_count": 1,
      "outputs": [
        {
          "output_type": "stream",
          "name": "stdout",
          "text": [
            "I like this Desert Creme Brulee\n",
            "I like this Desert Apple Pie\n",
            "I like this Desert Churros\n",
            "I like this Desert Tiramisú\n",
            "I like this Desert Chocolate Cake\n"
          ]
        }
      ]
    }
  ]
}