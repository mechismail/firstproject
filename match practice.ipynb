{
  "nbformat": 4,
  "nbformat_minor": 0,
  "metadata": {
    "colab": {
      "provenance": [],
      "authorship_tag": "ABX9TyPx/Bxw7ZMMQxFgC+62ypj6",
      "include_colab_link": true
    },
    "kernelspec": {
      "name": "python3",
      "display_name": "Python 3"
    },
    "language_info": {
      "name": "python"
    }
  },
  "cells": [
    {
      "cell_type": "markdown",
      "metadata": {
        "id": "view-in-github",
        "colab_type": "text"
      },
      "source": [
        "<a href=\"https://colab.research.google.com/github/mechismail/firstproject/blob/main/match%20practice.ipynb\" target=\"_parent\"><img src=\"https://colab.research.google.com/assets/colab-badge.svg\" alt=\"Open In Colab\"/></a>"
      ]
    },
    {
      "cell_type": "code",
      "execution_count": 12,
      "metadata": {
        "colab": {
          "base_uri": "https://localhost:8080/"
        },
        "id": "4sUuVzF_1dLc",
        "outputId": "5328bf7f-3b41-4d4d-af5a-02d4bb3b54ca"
      },
      "outputs": [
        {
          "output_type": "stream",
          "name": "stdout",
          "text": [
            "Enter Bill value :110\n",
            "Bill Total is > 100\n",
            "Please pay Discounted Bill  100\n"
          ]
        }
      ],
      "source": [
        "bill_total = int(input(\"Enter Bill value :\" ))\n",
        "discount1=10\n",
        "if bill_total >100 :\n",
        "  print(\"Bill Total is > 100\")\n",
        "  bill_total = bill_total - discount1\n",
        "  print(\"Please pay Discounted Bill \" , bill_total)\n",
        "else :\n",
        "  print(\"Your Bill is < 100 , No Discount Allowed , Pay \" , bill_total)"
      ]
    },
    {
      "cell_type": "code",
      "source": [
        "bill_total = 108\n",
        "discount1 = 10\n",
        "\n",
        "if bill_total > 100:\n",
        "    print(\"Bill is greater than 100!\")\n",
        "    bill_total = bill_total - discount1\n",
        "\n",
        "print(\"Total bill: \" + str(bill_total))\n",
        "print(\"Total bill: \" , bill_total)"
      ],
      "metadata": {
        "id": "ho8IM-d61h9D",
        "colab": {
          "base_uri": "https://localhost:8080/"
        },
        "outputId": "281fbc85-10df-4bf4-e9e7-f3e42c50bc35"
      },
      "execution_count": 21,
      "outputs": [
        {
          "output_type": "stream",
          "name": "stdout",
          "text": [
            "Bill is greater than 100!\n",
            "Total bill: 98\n",
            "Total bill:  98\n"
          ]
        }
      ]
    },
    {
      "cell_type": "code",
      "source": [
        "http_status = 200\n",
        "\n",
        "if http_status == 200 or http_status == 201:\n",
        "    print('Success')\n",
        "elif http_status == 400:\n",
        "    print('Bad request')\n",
        "elif http_status == 404:\n",
        "    print('Not Found')\n",
        "elif http_status == 500 or http_status == 501:\n",
        "    print('Server Error')\n",
        "else:\n",
        "    print('Unknown')\n",
        "\n",
        "\n",
        "match http_status:\n",
        "    case 200 | 201:\n",
        "        print('Success')\n",
        "    #case _:\n",
        "       # print('Unknown')"
      ],
      "metadata": {
        "colab": {
          "base_uri": "https://localhost:8080/"
        },
        "id": "bp4seDBNtMC8",
        "outputId": "ff517a9a-778f-4311-c27a-a061efbd213f"
      },
      "execution_count": 28,
      "outputs": [
        {
          "output_type": "stream",
          "name": "stdout",
          "text": [
            "Success\n",
            "Success\n"
          ]
        }
      ]
    }
  ]
}